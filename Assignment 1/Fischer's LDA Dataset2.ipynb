{
 "cells": [
  {
   "cell_type": "code",
   "execution_count": 13,
   "metadata": {},
   "outputs": [],
   "source": [
    "import pandas as pd\n",
    "import numpy as np\n",
    "import matplotlib.pyplot as plt\n",
    "from scipy.stats import norm"
   ]
  },
  {
   "cell_type": "code",
   "execution_count": 14,
   "metadata": {},
   "outputs": [],
   "source": [
    "data1 = pd.read_csv('a1_data/a1_d2.csv',header = None)\n",
    "X = data1.iloc[:,:-1]"
   ]
  },
  {
   "cell_type": "code",
   "execution_count": 15,
   "metadata": {},
   "outputs": [],
   "source": [
    "x1 = data1[data1.iloc[:,-1] == 0].iloc[:,:-1]\n",
    "x2 = data1[data1.iloc[:,-1] == 1].iloc[:,:-1]\n",
    "m1 = np.mean(x1)\n",
    "m2 = np.mean(x2)\n",
    "\n",
    "mu_2 = []\n",
    "mu_2.append(np.mean(x1))\n",
    "mu_2.append(np.mean(x2))\n",
    "mu_2 = np.array(mu_2).T\n",
    "\n",
    "mu = np.mean(X,axis=0).values.reshape(3,1)\n",
    "Nc = [len(x1), len(x2)]\n",
    "\n",
    "B = np.dot(Nc*np.array(mu_2-mu),np.array(mu_2).T)\n",
    "\n",
    "s_mat = []\n",
    "x1-m1\n",
    "for elem in np.array(x1-m1):\n",
    "#     print(elem)\n",
    "    t = np.dot((elem.reshape((-1,1))), elem.reshape(1,3))\n",
    "    s_mat.append(t)\n",
    "# S = np.zeros((x1.shape[1], x1.shape[1]))\n",
    "S = np.sum(s_mat,axis = 0)\n",
    "s_mat = []\n",
    "for elem in np.array(x2-m2):\n",
    "    t = np.dot((elem.reshape((-1,1))), elem.reshape(1,3))\n",
    "    s_mat.append(t)\n",
    "S = S + np.sum(s_mat,axis = 0)"
   ]
  },
  {
   "cell_type": "code",
   "execution_count": 16,
   "metadata": {},
   "outputs": [
    {
     "name": "stdout",
     "output_type": "stream",
     "text": [
      "Weight vector: [-6.55685837e-03  1.50131262e-04  3.56628837e-01]\n"
     ]
    }
   ],
   "source": [
    "Sinv = np.linalg.inv(S)\n",
    "Sinv_B = Sinv.dot(B)\n",
    "# print(Sinv_B)\n",
    "eigval, W = np.linalg.eig(Sinv_B)\n",
    "eigval, W = zip(*sorted(zip(eigval, W)))\n",
    "W = W[2]\n",
    "print('Weight vector: {}'.format(W))"
   ]
  },
  {
   "cell_type": "code",
   "execution_count": 17,
   "metadata": {},
   "outputs": [],
   "source": [
    "projc1 = np.dot(x1,W) / np.dot(W.T,W)\n",
    "projc2 = np.dot(x2,W) / np.dot(W.T,W)\n",
    "mu, sigma = norm.fit(projc1)\n",
    "mu2, sigma2 = norm.fit(projc2)"
   ]
  },
  {
   "cell_type": "code",
   "execution_count": 18,
   "metadata": {},
   "outputs": [
    {
     "name": "stdout",
     "output_type": "stream",
     "text": [
      "Separation point: -1.0909090909090908\n"
     ]
    },
    {
     "data": {
      "image/png": "[encoded data removed]",
      "text/plain": [
       "<Figure size 432x288 with 1 Axes>"
      ]
     },
     "metadata": {
      "needs_background": "light"
     },
     "output_type": "display_data"
    }
   ],
   "source": [
    "xmin, xmax = [-4,5]\n",
    "x = np.linspace(xmin, xmax, 100)\n",
    "p = norm.pdf(x, mu, sigma)\n",
    "q = norm.pdf(x,mu2,sigma2)\n",
    "plt.plot(x, p, 'k', color='red',linewidth=2,label='Class 0')\n",
    "plt.plot(x,q,'k',color='blue',linewidth=2,label='Class 1')\n",
    "idx = np.argwhere(np.diff(np.sign(p - q))).flatten()\n",
    "sep_pt = x[idx[0]]\n",
    "print('Separation point: {}'.format(sep_pt))\n",
    "plt.plot(x[idx], p[idx], 'ro')\n",
    "plt.legend()\n",
    "plt.title('Normal Distributions')\n",
    "plt.show()"
   ]
  },
  {
   "cell_type": "code",
   "execution_count": 19,
   "metadata": {},
   "outputs": [
    {
     "name": "stdout",
     "output_type": "stream",
     "text": [
      "True positives: 500 \n",
      "True negatives: 500 \n",
      "False positives: 0 \n",
      "False negatives: 0\n",
      "Accuracy: 1.0\n",
      "F-score: 1.0\n"
     ]
    }
   ],
   "source": [
    "tp, tn = [0,0]\n",
    "for elem in projc2:\n",
    "    if elem > sep_pt:\n",
    "        tp += 1\n",
    "for elem in projc1:\n",
    "    if elem <= sep_pt:\n",
    "        tn +=1\n",
    "fn = len(x1) - tp\n",
    "fp = len(x2) - tn\n",
    "print('True positives: {} \\nTrue negatives: {} \\nFalse positives: {} \\nFalse negatives: {}'.format(tp, tn, fp, fn))\n",
    "\n",
    "precision = tp / (tp+fp)\n",
    "recall = tp / (tp + fn)\n",
    "accuracy = (tp+tn)/(tp+tn+fp+fn)\n",
    "print('Accuracy: {}'.format(accuracy))\n",
    "f_score = 2 * precision * recall / (precision + recall)\n",
    "print('F-score: {}' .format(f_score))"
   ]
  },
  {
   "cell_type": "code",
   "execution_count": 20,
   "metadata": {},
   "outputs": [],
   "source": [
    "x = []\n",
    "y = []\n",
    "for index, rows in data1.iterrows(): \n",
    "    l = [rows[0], rows[1], rows[2]]\n",
    "    x.append(l)\n",
    "    y.append(int(rows[3]))"
   ]
  },
  {
   "cell_type": "code",
   "execution_count": 21,
   "metadata": {},
   "outputs": [
    {
     "data": {
      "image/png": "[encoded data removed]",
      "text/plain": [
       "<Figure size 720x576 with 1 Axes>"
      ]
     },
     "metadata": {
      "needs_background": "light"
     },
     "output_type": "display_data"
    }
   ],
   "source": [
    "colors = ['red', 'blue']\n",
    "fig, ax = plt.subplots(figsize=(10, 8))\n",
    "for point, pred in zip(x, y):\n",
    "    proj = (np.dot(point, W) * W) / np.dot(W.T, W) \n",
    "    plot = ax.scatter(proj[0], proj[1], color=colors[pred], alpha=0.3)\n",
    "plt.show()"
   ]
  }
 ],
 "metadata": {
  "kernelspec": {
   "display_name": "Python 3",
   "language": "python",
   "name": "python3"
  },
  "language_info": {
   "codemirror_mode": {
    "name": "ipython",
    "version": 3
   },
   "file_extension": ".py",
   "mimetype": "text/x-python",
   "name": "python",
   "nbconvert_exporter": "python",
   "pygments_lexer": "ipython3",
   "version": "3.7.4"
  }
 },
 "nbformat": 4,
 "nbformat_minor": 2
}
