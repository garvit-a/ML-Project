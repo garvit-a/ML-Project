{
 "cells": [
  {
   "cell_type": "code",
   "execution_count": 7,
   "metadata": {},
   "outputs": [],
   "source": [
    "import numpy as np\n",
    "import pandas as pd\n",
    "from collections import defaultdict\n",
    "from sklearn.model_selection import KFold\n",
    "import re\n",
    "from scipy.stats import norm"
   ]
  },
  {
   "cell_type": "code",
   "execution_count": 8,
   "metadata": {},
   "outputs": [],
   "source": [
    "data = pd.read_csv('a1_data/a1_d3.txt',sep='\\t',header=None)\n",
    "X = data.iloc[:,0]\n",
    "y = data.iloc[:,1]"
   ]
  },
  {
   "cell_type": "code",
   "execution_count": 9,
   "metadata": {},
   "outputs": [],
   "source": [
    "kf= KFold(n_splits=5,shuffle=True,random_state=2)"
   ]
  },
  {
   "cell_type": "code",
   "execution_count": 10,
   "metadata": {},
   "outputs": [],
   "source": [
    "def preprocess(s):\n",
    "    s = re.sub(r'[^\\w]', ' ', s)\n",
    "    s = s.lower()\n",
    "    return s"
   ]
  },
  {
   "cell_type": "code",
   "execution_count": 11,
   "metadata": {},
   "outputs": [
    {
     "name": "stdout",
     "output_type": "stream",
     "text": [
      "Accuracy and F-score for 1th fold: 0.765 and 0.7345\n",
      "Accuracy and F-score for 2th fold: 0.815 and 0.823\n",
      "Accuracy and F-score for 3th fold: 0.83 and 0.8283\n",
      "Accuracy and F-score for 4th fold: 0.8 and 0.8\n",
      "Accuracy and F-score for 5th fold: 0.855 and 0.8449\n"
     ]
    }
   ],
   "source": [
    "farr = []\n",
    "acarr = []\n",
    "for train_index,test_index in kf.split(X):\n",
    "    X_train= list(X[train_index])\n",
    "    X_test= list(X[test_index])\n",
    "    y_train= list(y[train_index])\n",
    "    y_test= list(y[test_index])\n",
    "\n",
    "    posct,negct = [0,0]\n",
    "    for i in range(len(y_train)):\n",
    "        if(y_train[i] == 0):\n",
    "            posct += 1\n",
    "        else:\n",
    "            negct += 1\n",
    "\n",
    "    pos_freq = defaultdict(float)\n",
    "    neg_freq = defaultdict(float)\n",
    "\n",
    "    for i in range(len(X_train)):\n",
    "        text = preprocess(X_train[i])\n",
    "        sent = y_train[i]\n",
    "        for word in list(set(text.split())):\n",
    "#             print(word)\n",
    "            if sent == 1:      \n",
    "                pos_freq[word] += 1.0\n",
    "            else:\n",
    "                neg_freq[word] += 1.0\n",
    "                \n",
    "    prediction = []\n",
    "    class_prob = (posct / negct)\n",
    "    for i in range(len(X_test)):\n",
    "        score = class_prob\n",
    "        text = preprocess(X_test[i])\n",
    "        for word in list(text.split()):\n",
    "            if word in pos_freq:\n",
    "                score *= pos_freq[word]\n",
    "            if word in neg_freq:\n",
    "                score /= neg_freq[word] \n",
    "#         print(score)\n",
    "        hyp = 1 if score >= 1 else 0\n",
    "        prediction.append(hyp)\n",
    "        \n",
    "    \n",
    "    tp, fp, tn, fn = [0,0,0,0]\n",
    "\n",
    "\n",
    "    for i in range(len(y_test)):\n",
    "        if(y_test[i]==1):\n",
    "            if(prediction[i]==1):\n",
    "                tp+=1\n",
    "            else:\n",
    "                fn+=1\n",
    "        else:\n",
    "            if(prediction[i]==0):\n",
    "                tn+=1\n",
    "            else:\n",
    "                fp+=1    \n",
    "\n",
    "    accuracy = (tp+tn)/(tp+tn+fp+fn)\n",
    "    recall = tp/(tp+fn)\n",
    "    precision = tp/(tp+fp) \n",
    "    f1 = 2*precision*recall/(precision+recall)\n",
    "    acarr.append(accuracy)\n",
    "    farr.append(f1)\n",
    "for i in range(len(acarr)):\n",
    "    print('Accuracy and F-score for {}th fold: {} and {}'.format(i+1, acarr[i], np.round(farr[i],4)))"
   ]
  },
  {
   "cell_type": "code",
   "execution_count": 13,
   "metadata": {},
   "outputs": [
    {
     "name": "stdout",
     "output_type": "stream",
     "text": [
      "Accuracy: 0.813 ± 0.03009983388658481\n"
     ]
    }
   ],
   "source": [
    "mu,sigma = norm.fit(acarr)\n",
    "print('Accuracy: {} ± {}'.format(mu, sigma))"
   ]
  },
  {
   "cell_type": "code",
   "execution_count": null,
   "metadata": {
    "collapsed": true
   },
   "outputs": [],
   "source": []
  }
 ],
 "metadata": {
  "kernelspec": {
   "display_name": "Python 3",
   "language": "python",
   "name": "python3"
  },
  "language_info": {
   "codemirror_mode": {
    "name": "ipython",
    "version": 3
   },
   "file_extension": ".py",
   "mimetype": "text/x-python",
   "name": "python",
   "nbconvert_exporter": "python",
   "pygments_lexer": "ipython3",
   "version": "3.8.1"
  }
 },
 "nbformat": 4,
 "nbformat_minor": 2
}
