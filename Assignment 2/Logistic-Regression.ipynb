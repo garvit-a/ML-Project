{
 "cells": [
  {
   "cell_type": "code",
   "execution_count": 1,
   "metadata": {},
   "outputs": [],
   "source": [
    "import pandas as pd\n",
    "import numpy as np\n",
    "import matplotlib.pyplot as plt"
   ]
  },
  {
   "cell_type": "code",
   "execution_count": 2,
   "metadata": {},
   "outputs": [],
   "source": [
    "df = pd.read_csv('a2_data/logistic_data.txt', header = None)\n",
    "X = df.iloc[:,:-1]\n",
    "y = df.iloc[:,-1]\n",
    "X = X - X.mean(axis = 0)\n",
    "X = X / X.std(axis = 0)\n",
    "bias= np.ones((df.shape[0],1))\n",
    "X = np.hstack((X,bias))"
   ]
  },
  {
   "cell_type": "code",
   "execution_count": 3,
   "metadata": {},
   "outputs": [],
   "source": [
    "from sklearn.model_selection import train_test_split\n",
    "X_train, X_test, y_train, y_test = train_test_split(X, y, train_size = 0.8)"
   ]
  },
  {
   "cell_type": "code",
   "execution_count": 4,
   "metadata": {},
   "outputs": [],
   "source": [
    "def sigmoid(z):\n",
    "    return 1/(1 + np.exp(-z))\n",
    "def predict(X, w, threshold=0.5):\n",
    "    h = sigmoid(np.dot(X,w))\n",
    "#     print(h)\n",
    "    return h>=threshold"
   ]
  },
  {
   "cell_type": "markdown",
   "metadata": {},
   "source": [
    "# Without Regularization"
   ]
  },
  {
   "cell_type": "code",
   "execution_count": 5,
   "metadata": {},
   "outputs": [],
   "source": [
    "def loss(y, h):\n",
    "    return -(y * np.log(h) + (1 - y) * np.log(1 - h))"
   ]
  },
  {
   "cell_type": "code",
   "execution_count": 36,
   "metadata": {},
   "outputs": [
    {
     "name": "stdout",
     "output_type": "stream",
     "text": [
      "[-6.82723704 -7.07207098 -6.60751005  0.24366309 -2.57874144]\n"
     ]
    }
   ],
   "source": [
    "w = np.random.randn(X.shape[1])\n",
    "iterations = 3000\n",
    "alpha = 0.5\n",
    "losses = []\n",
    "for _ in range(iterations):\n",
    "    z = np.dot(X_train,w)\n",
    "    h = sigmoid(z)\n",
    "    l = loss(y_train,h)\n",
    "    epoch_loss= np.sum(l)/y_train.shape[0]\n",
    "#     print(epoch_loss)\n",
    "    losses.append(epoch_loss)\n",
    "    gradient = np.dot(X_train.T, (h - y_train)) / y_train.size\n",
    "    w -= alpha * gradient\n",
    "print(w)"
   ]
  },
  {
   "cell_type": "code",
   "execution_count": 37,
   "metadata": {},
   "outputs": [
    {
     "data": {
      "image/png": "[encoded data removed]",
      "text/plain": [
       "<Figure size 432x288 with 1 Axes>"
      ]
     },
     "metadata": {
      "needs_background": "light"
     },
     "output_type": "display_data"
    }
   ],
   "source": [
    "plt.plot(losses)\n",
    "plt.title('Logistic Regression',loc='center')\n",
    "plt.xlabel('No. of epochs')\n",
    "plt.ylabel('Training loss')\n",
    "plt.show()"
   ]
  },
  {
   "cell_type": "code",
   "execution_count": 38,
   "metadata": {},
   "outputs": [
    {
     "name": "stdout",
     "output_type": "stream",
     "text": [
      "117 2 155 1\n",
      "F-score:  0.9873417721518987\n",
      "Accuracy:  0.9890909090909091\n"
     ]
    }
   ],
   "source": [
    "# Prediction\n",
    "y_test = np.array(y_test)\n",
    "# print(y_test)\n",
    "y_pred = predict(X_test, w)\n",
    "fp,fn,tp,tn = [0,0,0,0]\n",
    "\n",
    "for i in range(len(y_test)):\n",
    "    if(y_test[i] == 1):\n",
    "        if (y_pred[i] == 1):\n",
    "            tp+=1\n",
    "        else:\n",
    "            fn+=1\n",
    "    else:\n",
    "        if(y_pred[i] == 0):\n",
    "            tn+=1\n",
    "        else:\n",
    "            fp+=1\n",
    "\n",
    "print(tp,fp,tn,fn)\n",
    "precision = tp / (tp + fp)\n",
    "recall = tp / (tp + fn)\n",
    "f_score = (2 * precision * recall) / (precision + recall)\n",
    "accuracy= (tp+tn) / (tp+tn+fp+fn)\n",
    "print('F-score: ', f_score)\n",
    "print('Accuracy: ', accuracy)"
   ]
  },
  {
   "cell_type": "markdown",
   "metadata": {},
   "source": [
    "# L1 - Regularization"
   ]
  },
  {
   "cell_type": "code",
   "execution_count": 33,
   "metadata": {},
   "outputs": [
    {
     "name": "stdout",
     "output_type": "stream",
     "text": [
      "[-7.34134042 -7.68424744 -7.16435608  0.20726468 -2.90009401]\n"
     ]
    }
   ],
   "source": [
    "w = np.random.randn(X.shape[1])\n",
    "iterations = 4000\n",
    "alpha = 0.5\n",
    "lambd = 0.01\n",
    "losses = []\n",
    "for _ in range(iterations):\n",
    "    z = np.dot(X_train,w)\n",
    "    h = sigmoid(z)\n",
    "    l = loss(y_train,h) + lambd/2 * np.sum(w)\n",
    "    epoch_loss= np.sum(l)/y_train.shape[0]\n",
    "#     print(epoch_loss)\n",
    "    losses.append(epoch_loss)\n",
    "    gradient = (np.dot(X_train.T, (h - y_train)) + lambd/2*np.sign(w)) / y_train.size \n",
    "    w -= alpha * gradient\n",
    "print(w)"
   ]
  },
  {
   "cell_type": "code",
   "execution_count": 34,
   "metadata": {},
   "outputs": [
    {
     "data": {
      "image/png": "[encoded data removed]",
      "text/plain": [
       "<Figure size 432x288 with 1 Axes>"
      ]
     },
     "metadata": {
      "needs_background": "light"
     },
     "output_type": "display_data"
    }
   ],
   "source": [
    "plt.plot(losses)\n",
    "plt.title('Logistic Regression',loc='center')\n",
    "plt.xlabel('No. of epochs')\n",
    "plt.ylabel('Training loss')\n",
    "plt.show()"
   ]
  },
  {
   "cell_type": "code",
   "execution_count": 35,
   "metadata": {},
   "outputs": [
    {
     "name": "stdout",
     "output_type": "stream",
     "text": [
      "117 1 156 1\n",
      "F-score:  0.9915254237288136\n",
      "Accuracy:  0.9927272727272727\n"
     ]
    }
   ],
   "source": [
    "# Prediction\n",
    "y_test = np.array(y_test)\n",
    "# print(y_test)\n",
    "y_pred = predict(X_test, w)\n",
    "fp,fn,tp,tn = [0,0,0,0]\n",
    "\n",
    "for i in range(len(y_test)):\n",
    "    if(y_test[i] == 1):\n",
    "        if (y_pred[i] == 1):\n",
    "            tp+=1\n",
    "        else:\n",
    "            fn+=1\n",
    "    else:\n",
    "        if(y_pred[i] == 0):\n",
    "            tn+=1\n",
    "        else:\n",
    "            fp+=1\n",
    "\n",
    "print(tp,fp,tn,fn)\n",
    "precision = tp / (tp + fp)\n",
    "recall = tp / (tp + fn)\n",
    "f_score = (2 * precision * recall) / (precision + recall)\n",
    "accuracy= (tp+tn) / (tp+tn+fp+fn)\n",
    "print('F-score: ', f_score)\n",
    "print('Accuracy: ', accuracy)"
   ]
  },
  {
   "cell_type": "markdown",
   "metadata": {},
   "source": [
    "# L2 - Regularization"
   ]
  },
  {
   "cell_type": "code",
   "execution_count": 68,
   "metadata": {},
   "outputs": [
    {
     "name": "stdout",
     "output_type": "stream",
     "text": [
      "[-3.40153378 -2.55991453 -2.46764246  0.30988807 -0.62717731]\n"
     ]
    }
   ],
   "source": [
    "w = np.random.randn(X.shape[1])\n",
    "iterations = 4000\n",
    "alpha = 0.02\n",
    "lambd = 0.005\n",
    "losses = []\n",
    "for _ in range(iterations):\n",
    "    z = np.dot(X_train,w)\n",
    "    h = sigmoid(z)\n",
    "    l = loss(y_train,h) + (lambd/2)*np.dot(w,w)\n",
    "    epoch_loss= np.sum(l)/y_train.shape[0]\n",
    "    #print(epoch_loss)\n",
    "    losses.append(epoch_loss)\n",
    "    gradient = (np.dot(X_train.T, (h-y_train)) + lambd/2* w) / y_train.size\n",
    "    w -= (alpha * gradient)\n",
    "print(w)"
   ]
  },
  {
   "cell_type": "code",
   "execution_count": 69,
   "metadata": {},
   "outputs": [
    {
     "data": {
      "image/png": "[encoded data removed]",
      "text/plain": [
       "<Figure size 432x288 with 1 Axes>"
      ]
     },
     "metadata": {
      "needs_background": "light"
     },
     "output_type": "display_data"
    }
   ],
   "source": [
    "plt.plot(losses)\n",
    "plt.title('Logistic Regression',loc='center')\n",
    "plt.xlabel('No. of epochs')\n",
    "plt.ylabel('Training loss')\n",
    "plt.show()"
   ]
  },
  {
   "cell_type": "code",
   "execution_count": 70,
   "metadata": {},
   "outputs": [
    {
     "name": "stdout",
     "output_type": "stream",
     "text": [
      "117 4 153 1\n",
      "F-score:  0.9790794979079498\n",
      "Accuracy:  0.9818181818181818\n"
     ]
    }
   ],
   "source": [
    "# Prediction\n",
    "y_test = np.array(y_test)\n",
    "# print(y_test)\n",
    "y_pred = predict(X_test, w)\n",
    "fp,fn,tp,tn = [0,0,0,0]\n",
    "\n",
    "for i in range(len(y_test)):\n",
    "    if(y_test[i] == 1):\n",
    "        if (y_pred[i] == 1):\n",
    "            tp+=1\n",
    "        else:\n",
    "            fn+=1\n",
    "    else:\n",
    "        if(y_pred[i] == 0):\n",
    "            tn+=1\n",
    "        else:\n",
    "            fp+=1\n",
    "\n",
    "print(tp,fp,tn,fn)\n",
    "precision = tp / (tp + fp)\n",
    "recall = tp / (tp + fn)\n",
    "f_score = (2 * precision * recall) / (precision + recall)\n",
    "accuracy= (tp+tn) / (tp+tn+fp+fn)\n",
    "print('F-score: ', f_score)\n",
    "print('Accuracy: ', accuracy)"
   ]
  },
  {
   "cell_type": "code",
   "execution_count": null,
   "metadata": {},
   "outputs": [],
   "source": []
  }
 ],
 "metadata": {
  "kernelspec": {
   "display_name": "Python 3",
   "language": "python",
   "name": "python3"
  },
  "language_info": {
   "codemirror_mode": {
    "name": "ipython",
    "version": 3
   },
   "file_extension": ".py",
   "mimetype": "text/x-python",
   "name": "python",
   "nbconvert_exporter": "python",
   "pygments_lexer": "ipython3",
   "version": "3.8.1"
  }
 },
 "nbformat": 4,
 "nbformat_minor": 2
}
